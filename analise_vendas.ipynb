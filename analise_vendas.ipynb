{
 "cells": [
  {
   "cell_type": "markdown",
   "id": "448a9b60",
   "metadata": {},
   "source": [
    "# Análise de Vendas - E-commerce Fictício\n",
    "Este notebook apresenta a análise do dataset de vendas de um e-commerce fictício, mostrando insights sobre produtos, categorias e faturamento."
   ]
  },
  {
   "cell_type": "code",
   "execution_count": null,
   "id": "1cc4b083",
   "metadata": {},
   "outputs": [],
   "source": [
    "import pandas as pd\n",
    "import matplotlib.pyplot as plt\n",
    "import seaborn as sns\n",
    "sns.set(style='whitegrid')"
   ]
  },
  {
   "cell_type": "code",
   "execution_count": null,
   "id": "a8174b3c",
   "metadata": {},
   "outputs": [],
   "source": [
    "df = pd.read_csv('vendas.csv')\n",
    "df.head()"
   ]
  },
  {
   "cell_type": "code",
   "execution_count": null,
   "id": "6ab3bfc9",
   "metadata": {},
   "outputs": [],
   "source": [
    "df.info()\n",
    "df.describe()\n",
    "df.isnull().sum()"
   ]
  },
  {
   "cell_type": "code",
   "execution_count": null,
   "id": "03e606d8",
   "metadata": {},
   "outputs": [],
   "source": [
    "total_vendas = df['Total_Venda'].sum()\n",
    "print(f'Total de Vendas: R${total_vendas:,.2f}')"
   ]
  },
  {
   "cell_type": "code",
   "execution_count": null,
   "id": "56dc19da",
   "metadata": {},
   "outputs": [],
   "source": [
    "top_produtos = df.groupby('Produto')['Quantidade'].sum().sort_values(ascending=False)\n",
    "print(top_produtos)\n",
    "top_produtos.plot(kind='bar', figsize=(10,6), title='Produtos mais vendidos')\n",
    "plt.show()"
   ]
  },
  {
   "cell_type": "code",
   "execution_count": null,
   "id": "40bd5fdf",
   "metadata": {},
   "outputs": [],
   "source": [
    "vendas_categoria = df.groupby('Categoria')['Total_Venda'].sum()\n",
    "print(vendas_categoria)\n",
    "vendas_categoria.plot(kind='pie', autopct='%1.1f%%', figsize=(6,6), title='Faturamento por Categoria')\n",
    "plt.ylabel('')\n",
    "plt.show()"
   ]
  },
  {
   "cell_type": "code",
   "execution_count": null,
   "id": "cdb20c34",
   "metadata": {},
   "outputs": [],
   "source": [
    "df['Data'] = pd.to_datetime(df['Data'])\n",
    "vendas_dia = df.groupby('Data')['Total_Venda'].sum()\n",
    "vendas_dia.plot(kind='line', figsize=(10,6), marker='o', title='Faturamento Diário')\n",
    "plt.ylabel('Total de Vendas (R$)')\n",
    "plt.show()"
   ]
  }
 ],
 "metadata": {},
 "nbformat": 4,
 "nbformat_minor": 5
}
